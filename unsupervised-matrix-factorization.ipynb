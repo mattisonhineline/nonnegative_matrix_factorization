{
 "cells": [
  {
   "cell_type": "markdown",
   "id": "4fec17f1",
   "metadata": {
    "papermill": {
     "duration": 0.015294,
     "end_time": "2022-06-27T14:39:54.724756",
     "exception": false,
     "start_time": "2022-06-27T14:39:54.709462",
     "status": "completed"
    },
    "tags": []
   },
   "source": [
    "# 🇬🇧 BBC NEWS CLASSIFICATION PROJECT \n",
    "## *(Unsupervised Learning Project)*\n",
    "#### 🏫 University of Colorado, Boulder - Unsupervised Algorithms in Machine Learning \n",
    "*By Mattison Hineline*\n",
    "\n",
    "\n",
    "**Overview**\n",
    "\n",
    "This project looks at an unsupervised learning model technique called matrix factorization. All the required libraries to run the notebook are in the first coding cell. This notebook explores the training data while using common natural language processing techniques. Our goal is to classify different news articles into five different groups: business, tech, sport, entertainment or politics. We will train two models: (1) an unsupervised model using matrix factorization and then compare it with (2) a supervised model using KMeans clustering. Both models are submitted to have their testing accuracy. \n",
    "\n",
    "\n",
    "**1. Exploratory Data Analysis (EDA)🥸** \n",
    "\n",
    "In this section we will explore the data given for the competition. It is important to look at what you have to work with before beginning any model building or model training. Normally, it is suggested to first split the data into training and testing sets before any EDA because you, as a researcher, do not want to be biased for the results which can lead to overfitting. For this reason, we will not visualize or explore the test data given, and use that data only for testing the models. \n",
    "\n",
    "**2. Model Building and Training 🦾**\n",
    "\n",
    "Next, we will build multiple unsupervised models and train them on the test data. Once we have at least two strong models built, we will fine-tune those models and test on the test dataset. We will be using the train-test split on this dataset that is already given in the CSV files.\n",
    "\n",
    "**3. Model Comparisons 🧐**\n",
    "\n",
    "Once we have good, working models we will compare them for their performance. We will discuss which model is the best out of the models tested and why. \n",
    "\n",
    "**4. Conclusions 🤓**\n",
    "\n",
    "Finally, we will summary the project and results, including future suggestions for further analysis. "
   ]
  },
  {
   "cell_type": "code",
   "execution_count": 1,
   "id": "e343398d",
   "metadata": {
    "execution": {
     "iopub.execute_input": "2022-06-27T14:39:54.755021Z",
     "iopub.status.busy": "2022-06-27T14:39:54.754341Z",
     "iopub.status.idle": "2022-06-27T14:39:56.725925Z",
     "shell.execute_reply": "2022-06-27T14:39:56.721917Z"
    },
    "papermill": {
     "duration": 1.991427,
     "end_time": "2022-06-27T14:39:56.729565",
     "exception": false,
     "start_time": "2022-06-27T14:39:54.738138",
     "status": "completed"
    },
    "tags": []
   },
   "outputs": [
    {
     "name": "stdout",
     "output_type": "stream",
     "text": [
      "/kaggle/input/learn-ai-bbc/BBC News Train.csv\n",
      "/kaggle/input/learn-ai-bbc/BBC News Sample Solution.csv\n",
      "/kaggle/input/learn-ai-bbc/BBC News Test.csv\n"
     ]
    }
   ],
   "source": [
    "#import important libraries\n",
    "import numpy as np \n",
    "import pandas as pd \n",
    "import seaborn as sns\n",
    "import matplotlib.pyplot as plt\n",
    "import os\n",
    "\n",
    "#EDA and preprocessing\n",
    "import re\n",
    "import nltk.corpus\n",
    "from nltk.corpus import stopwords\n",
    "from nltk.tokenize import word_tokenize\n",
    "from nltk.stem import WordNetLemmatizer\n",
    "from string import digits\n",
    "\n",
    "#modeling\n",
    "from sklearn.feature_extraction.text import TfidfVectorizer, CountVectorizer\n",
    "from sklearn.decomposition import NMF\n",
    "from sklearn.metrics import accuracy_score\n",
    "import sklearn.metrics as metrics\n",
    "import itertools\n",
    "from sklearn.cluster import KMeans\n",
    "from sklearn.model_selection import train_test_split\n",
    "\n",
    "#find the files names\n",
    "for dirname, _, filenames in os.walk('/kaggle/input'):\n",
    "    for filename in filenames:\n",
    "        print(os.path.join(dirname, filename))"
   ]
  },
  {
   "cell_type": "code",
   "execution_count": 2,
   "id": "abd0bad6",
   "metadata": {
    "execution": {
     "iopub.execute_input": "2022-06-27T14:39:56.760110Z",
     "iopub.status.busy": "2022-06-27T14:39:56.758904Z",
     "iopub.status.idle": "2022-06-27T14:39:56.766590Z",
     "shell.execute_reply": "2022-06-27T14:39:56.765175Z"
    },
    "papermill": {
     "duration": 0.025672,
     "end_time": "2022-06-27T14:39:56.769858",
     "exception": false,
     "start_time": "2022-06-27T14:39:56.744186",
     "status": "completed"
    },
    "tags": []
   },
   "outputs": [],
   "source": [
    "#label file paths\n",
    "path_dir = '/kaggle/input/learn-ai-bbc/'\n",
    "train_path = path_dir + 'BBC News Train.csv'\n",
    "sample_solution_path = path_dir + 'BBC News Sample Solution.csv'\n",
    "test_path = path_dir + 'BBC News Test.csv'"
   ]
  },
  {
   "cell_type": "code",
   "execution_count": 3,
   "id": "a3a91799",
   "metadata": {
    "execution": {
     "iopub.execute_input": "2022-06-27T14:39:56.798353Z",
     "iopub.status.busy": "2022-06-27T14:39:56.798016Z",
     "iopub.status.idle": "2022-06-27T14:39:56.956236Z",
     "shell.execute_reply": "2022-06-27T14:39:56.954720Z"
    },
    "papermill": {
     "duration": 0.176462,
     "end_time": "2022-06-27T14:39:56.959843",
     "exception": false,
     "start_time": "2022-06-27T14:39:56.783381",
     "status": "completed"
    },
    "tags": []
   },
   "outputs": [],
   "source": [
    "#import data\n",
    "train = pd.read_csv(train_path)\n",
    "sample_solution = pd.read_csv(sample_solution_path)\n",
    "test = pd.read_csv(test_path)"
   ]
  },
  {
   "cell_type": "markdown",
   "id": "b2e83d7c",
   "metadata": {
    "papermill": {
     "duration": 0.01395,
     "end_time": "2022-06-27T14:39:56.988374",
     "exception": false,
     "start_time": "2022-06-27T14:39:56.974424",
     "status": "completed"
    },
    "tags": []
   },
   "source": [
    "________\n",
    "# 1. Exploratory Analysis (EDA)\n",
    "_____"
   ]
  },
  {
   "cell_type": "code",
   "execution_count": 4,
   "id": "352cd0f6",
   "metadata": {
    "_kg_hide-input": true,
    "execution": {
     "iopub.execute_input": "2022-06-27T14:39:57.018453Z",
     "iopub.status.busy": "2022-06-27T14:39:57.017337Z",
     "iopub.status.idle": "2022-06-27T14:39:57.042480Z",
     "shell.execute_reply": "2022-06-27T14:39:57.041027Z"
    },
    "papermill": {
     "duration": 0.043307,
     "end_time": "2022-06-27T14:39:57.045677",
     "exception": false,
     "start_time": "2022-06-27T14:39:57.002370",
     "status": "completed"
    },
    "tags": []
   },
   "outputs": [
    {
     "data": {
      "text/html": [
       "<div>\n",
       "<style scoped>\n",
       "    .dataframe tbody tr th:only-of-type {\n",
       "        vertical-align: middle;\n",
       "    }\n",
       "\n",
       "    .dataframe tbody tr th {\n",
       "        vertical-align: top;\n",
       "    }\n",
       "\n",
       "    .dataframe thead th {\n",
       "        text-align: right;\n",
       "    }\n",
       "</style>\n",
       "<table border=\"1\" class=\"dataframe\">\n",
       "  <thead>\n",
       "    <tr style=\"text-align: right;\">\n",
       "      <th></th>\n",
       "      <th>ArticleId</th>\n",
       "      <th>Category</th>\n",
       "    </tr>\n",
       "  </thead>\n",
       "  <tbody>\n",
       "    <tr>\n",
       "      <th>0</th>\n",
       "      <td>1018</td>\n",
       "      <td>sport</td>\n",
       "    </tr>\n",
       "    <tr>\n",
       "      <th>1</th>\n",
       "      <td>1319</td>\n",
       "      <td>tech</td>\n",
       "    </tr>\n",
       "    <tr>\n",
       "      <th>2</th>\n",
       "      <td>1138</td>\n",
       "      <td>business</td>\n",
       "    </tr>\n",
       "    <tr>\n",
       "      <th>3</th>\n",
       "      <td>459</td>\n",
       "      <td>entertainment</td>\n",
       "    </tr>\n",
       "    <tr>\n",
       "      <th>4</th>\n",
       "      <td>1020</td>\n",
       "      <td>politics</td>\n",
       "    </tr>\n",
       "    <tr>\n",
       "      <th>...</th>\n",
       "      <td>...</td>\n",
       "      <td>...</td>\n",
       "    </tr>\n",
       "    <tr>\n",
       "      <th>730</th>\n",
       "      <td>1923</td>\n",
       "      <td>sport</td>\n",
       "    </tr>\n",
       "    <tr>\n",
       "      <th>731</th>\n",
       "      <td>373</td>\n",
       "      <td>tech</td>\n",
       "    </tr>\n",
       "    <tr>\n",
       "      <th>732</th>\n",
       "      <td>1704</td>\n",
       "      <td>business</td>\n",
       "    </tr>\n",
       "    <tr>\n",
       "      <th>733</th>\n",
       "      <td>206</td>\n",
       "      <td>entertainment</td>\n",
       "    </tr>\n",
       "    <tr>\n",
       "      <th>734</th>\n",
       "      <td>471</td>\n",
       "      <td>politics</td>\n",
       "    </tr>\n",
       "  </tbody>\n",
       "</table>\n",
       "<p>735 rows × 2 columns</p>\n",
       "</div>"
      ],
      "text/plain": [
       "     ArticleId       Category\n",
       "0         1018          sport\n",
       "1         1319           tech\n",
       "2         1138       business\n",
       "3          459  entertainment\n",
       "4         1020       politics\n",
       "..         ...            ...\n",
       "730       1923          sport\n",
       "731        373           tech\n",
       "732       1704       business\n",
       "733        206  entertainment\n",
       "734        471       politics\n",
       "\n",
       "[735 rows x 2 columns]"
      ]
     },
     "execution_count": 4,
     "metadata": {},
     "output_type": "execute_result"
    }
   ],
   "source": [
    "#look at what we are trying to submit \n",
    "sample_solution"
   ]
  },
  {
   "cell_type": "markdown",
   "id": "7b227a84",
   "metadata": {
    "papermill": {
     "duration": 0.01359,
     "end_time": "2022-06-27T14:39:57.073256",
     "exception": false,
     "start_time": "2022-06-27T14:39:57.059666",
     "status": "completed"
    },
    "tags": []
   },
   "source": [
    "After importing the data, we first take a look at what our ultimate goal for the project is by looking at the submission dataframe (above). We need to create a dataframe comprising of classified articles (ArticleId) and which category they belong to (category). We also see that each ArticleID is unique, while the categories repeat themselves. This is good information to know before continuing. Now that we know our end goal structure, let's move on to the training data. \n",
    "\n",
    "We can see in the dataframe below that we have three columns: \n",
    "1. ArticleID: which is the identifying number for the article\n",
    "2. Test: the article header and text\n",
    "3. Category: category given to the article"
   ]
  },
  {
   "cell_type": "code",
   "execution_count": 5,
   "id": "e6f7931a",
   "metadata": {
    "_kg_hide-input": true,
    "execution": {
     "iopub.execute_input": "2022-06-27T14:39:57.102532Z",
     "iopub.status.busy": "2022-06-27T14:39:57.101659Z",
     "iopub.status.idle": "2022-06-27T14:39:57.119926Z",
     "shell.execute_reply": "2022-06-27T14:39:57.118283Z"
    },
    "papermill": {
     "duration": 0.036006,
     "end_time": "2022-06-27T14:39:57.123089",
     "exception": false,
     "start_time": "2022-06-27T14:39:57.087083",
     "status": "completed"
    },
    "tags": []
   },
   "outputs": [
    {
     "data": {
      "text/html": [
       "<div>\n",
       "<style scoped>\n",
       "    .dataframe tbody tr th:only-of-type {\n",
       "        vertical-align: middle;\n",
       "    }\n",
       "\n",
       "    .dataframe tbody tr th {\n",
       "        vertical-align: top;\n",
       "    }\n",
       "\n",
       "    .dataframe thead th {\n",
       "        text-align: right;\n",
       "    }\n",
       "</style>\n",
       "<table border=\"1\" class=\"dataframe\">\n",
       "  <thead>\n",
       "    <tr style=\"text-align: right;\">\n",
       "      <th></th>\n",
       "      <th>ArticleId</th>\n",
       "      <th>Text</th>\n",
       "      <th>Category</th>\n",
       "    </tr>\n",
       "  </thead>\n",
       "  <tbody>\n",
       "    <tr>\n",
       "      <th>0</th>\n",
       "      <td>1833</td>\n",
       "      <td>worldcom ex-boss launches defence lawyers defe...</td>\n",
       "      <td>business</td>\n",
       "    </tr>\n",
       "    <tr>\n",
       "      <th>1</th>\n",
       "      <td>154</td>\n",
       "      <td>german business confidence slides german busin...</td>\n",
       "      <td>business</td>\n",
       "    </tr>\n",
       "    <tr>\n",
       "      <th>2</th>\n",
       "      <td>1101</td>\n",
       "      <td>bbc poll indicates economic gloom citizens in ...</td>\n",
       "      <td>business</td>\n",
       "    </tr>\n",
       "    <tr>\n",
       "      <th>3</th>\n",
       "      <td>1976</td>\n",
       "      <td>lifestyle  governs mobile choice  faster  bett...</td>\n",
       "      <td>tech</td>\n",
       "    </tr>\n",
       "    <tr>\n",
       "      <th>4</th>\n",
       "      <td>917</td>\n",
       "      <td>enron bosses in $168m payout eighteen former e...</td>\n",
       "      <td>business</td>\n",
       "    </tr>\n",
       "    <tr>\n",
       "      <th>...</th>\n",
       "      <td>...</td>\n",
       "      <td>...</td>\n",
       "      <td>...</td>\n",
       "    </tr>\n",
       "    <tr>\n",
       "      <th>1485</th>\n",
       "      <td>857</td>\n",
       "      <td>double eviction from big brother model caprice...</td>\n",
       "      <td>entertainment</td>\n",
       "    </tr>\n",
       "    <tr>\n",
       "      <th>1486</th>\n",
       "      <td>325</td>\n",
       "      <td>dj double act revamp chart show dj duo jk and ...</td>\n",
       "      <td>entertainment</td>\n",
       "    </tr>\n",
       "    <tr>\n",
       "      <th>1487</th>\n",
       "      <td>1590</td>\n",
       "      <td>weak dollar hits reuters revenues at media gro...</td>\n",
       "      <td>business</td>\n",
       "    </tr>\n",
       "    <tr>\n",
       "      <th>1488</th>\n",
       "      <td>1587</td>\n",
       "      <td>apple ipod family expands market apple has exp...</td>\n",
       "      <td>tech</td>\n",
       "    </tr>\n",
       "    <tr>\n",
       "      <th>1489</th>\n",
       "      <td>538</td>\n",
       "      <td>santy worm makes unwelcome visit thousands of ...</td>\n",
       "      <td>tech</td>\n",
       "    </tr>\n",
       "  </tbody>\n",
       "</table>\n",
       "<p>1490 rows × 3 columns</p>\n",
       "</div>"
      ],
      "text/plain": [
       "      ArticleId                                               Text  \\\n",
       "0          1833  worldcom ex-boss launches defence lawyers defe...   \n",
       "1           154  german business confidence slides german busin...   \n",
       "2          1101  bbc poll indicates economic gloom citizens in ...   \n",
       "3          1976  lifestyle  governs mobile choice  faster  bett...   \n",
       "4           917  enron bosses in $168m payout eighteen former e...   \n",
       "...         ...                                                ...   \n",
       "1485        857  double eviction from big brother model caprice...   \n",
       "1486        325  dj double act revamp chart show dj duo jk and ...   \n",
       "1487       1590  weak dollar hits reuters revenues at media gro...   \n",
       "1488       1587  apple ipod family expands market apple has exp...   \n",
       "1489        538  santy worm makes unwelcome visit thousands of ...   \n",
       "\n",
       "           Category  \n",
       "0          business  \n",
       "1          business  \n",
       "2          business  \n",
       "3              tech  \n",
       "4          business  \n",
       "...             ...  \n",
       "1485  entertainment  \n",
       "1486  entertainment  \n",
       "1487       business  \n",
       "1488           tech  \n",
       "1489           tech  \n",
       "\n",
       "[1490 rows x 3 columns]"
      ]
     },
     "execution_count": 5,
     "metadata": {},
     "output_type": "execute_result"
    }
   ],
   "source": [
    "#look at the training data\n",
    "train"
   ]
  },
  {
   "cell_type": "code",
   "execution_count": 6,
   "id": "e2a79a2d",
   "metadata": {
    "execution": {
     "iopub.execute_input": "2022-06-27T14:39:57.152544Z",
     "iopub.status.busy": "2022-06-27T14:39:57.152110Z",
     "iopub.status.idle": "2022-06-27T14:39:57.181814Z",
     "shell.execute_reply": "2022-06-27T14:39:57.180423Z"
    },
    "papermill": {
     "duration": 0.047747,
     "end_time": "2022-06-27T14:39:57.184872",
     "exception": false,
     "start_time": "2022-06-27T14:39:57.137125",
     "status": "completed"
    },
    "tags": []
   },
   "outputs": [
    {
     "data": {
      "text/html": [
       "<div>\n",
       "<style scoped>\n",
       "    .dataframe tbody tr th:only-of-type {\n",
       "        vertical-align: middle;\n",
       "    }\n",
       "\n",
       "    .dataframe tbody tr th {\n",
       "        vertical-align: top;\n",
       "    }\n",
       "\n",
       "    .dataframe thead th {\n",
       "        text-align: right;\n",
       "    }\n",
       "</style>\n",
       "<table border=\"1\" class=\"dataframe\">\n",
       "  <thead>\n",
       "    <tr style=\"text-align: right;\">\n",
       "      <th></th>\n",
       "      <th>ArticleId</th>\n",
       "    </tr>\n",
       "  </thead>\n",
       "  <tbody>\n",
       "    <tr>\n",
       "      <th>count</th>\n",
       "      <td>1490.000000</td>\n",
       "    </tr>\n",
       "    <tr>\n",
       "      <th>mean</th>\n",
       "      <td>1119.696644</td>\n",
       "    </tr>\n",
       "    <tr>\n",
       "      <th>std</th>\n",
       "      <td>641.826283</td>\n",
       "    </tr>\n",
       "    <tr>\n",
       "      <th>min</th>\n",
       "      <td>2.000000</td>\n",
       "    </tr>\n",
       "    <tr>\n",
       "      <th>25%</th>\n",
       "      <td>565.250000</td>\n",
       "    </tr>\n",
       "    <tr>\n",
       "      <th>50%</th>\n",
       "      <td>1112.500000</td>\n",
       "    </tr>\n",
       "    <tr>\n",
       "      <th>75%</th>\n",
       "      <td>1680.750000</td>\n",
       "    </tr>\n",
       "    <tr>\n",
       "      <th>max</th>\n",
       "      <td>2224.000000</td>\n",
       "    </tr>\n",
       "  </tbody>\n",
       "</table>\n",
       "</div>"
      ],
      "text/plain": [
       "         ArticleId\n",
       "count  1490.000000\n",
       "mean   1119.696644\n",
       "std     641.826283\n",
       "min       2.000000\n",
       "25%     565.250000\n",
       "50%    1112.500000\n",
       "75%    1680.750000\n",
       "max    2224.000000"
      ]
     },
     "execution_count": 6,
     "metadata": {},
     "output_type": "execute_result"
    }
   ],
   "source": [
    "# gain more information from the dataframe\n",
    "train.describe()"
   ]
  },
  {
   "cell_type": "code",
   "execution_count": 7,
   "id": "ce098b06",
   "metadata": {
    "execution": {
     "iopub.execute_input": "2022-06-27T14:39:57.214678Z",
     "iopub.status.busy": "2022-06-27T14:39:57.214334Z",
     "iopub.status.idle": "2022-06-27T14:39:57.233530Z",
     "shell.execute_reply": "2022-06-27T14:39:57.231666Z"
    },
    "papermill": {
     "duration": 0.037849,
     "end_time": "2022-06-27T14:39:57.236967",
     "exception": false,
     "start_time": "2022-06-27T14:39:57.199118",
     "status": "completed"
    },
    "tags": []
   },
   "outputs": [
    {
     "name": "stdout",
     "output_type": "stream",
     "text": [
      "<class 'pandas.core.frame.DataFrame'>\n",
      "RangeIndex: 1490 entries, 0 to 1489\n",
      "Data columns (total 3 columns):\n",
      " #   Column     Non-Null Count  Dtype \n",
      "---  ------     --------------  ----- \n",
      " 0   ArticleId  1490 non-null   int64 \n",
      " 1   Text       1490 non-null   object\n",
      " 2   Category   1490 non-null   object\n",
      "dtypes: int64(1), object(2)\n",
      "memory usage: 35.0+ KB\n"
     ]
    }
   ],
   "source": [
    "#check the type of data, null value counts and number of entries\n",
    "train.info()"
   ]
  },
  {
   "cell_type": "markdown",
   "id": "f0f4a109",
   "metadata": {
    "papermill": {
     "duration": 0.014962,
     "end_time": "2022-06-27T14:39:57.266655",
     "exception": false,
     "start_time": "2022-06-27T14:39:57.251693",
     "status": "completed"
    },
    "tags": []
   },
   "source": [
    "Great. All this information look as we expected. We have two object columns and one integer column (for the ID's). It looks like we are not missing any rows. Since the data we are working with is text, we don't need to worry about numbers that are missing such as 9999, 0, etc. Before continuing, I want to make sure that we have no repeated articles in the data. From the code below, we can see that we have 1490 unique IDs and we know the dataframe has 1490 rows, we can assume that each article is unique and continue. I also wanted to see how many categories there are. We can see below that there are five categories in total: business, tech, politics, sport, entertainment."
   ]
  },
  {
   "cell_type": "code",
   "execution_count": 8,
   "id": "02531197",
   "metadata": {
    "execution": {
     "iopub.execute_input": "2022-06-27T14:39:57.298998Z",
     "iopub.status.busy": "2022-06-27T14:39:57.298522Z",
     "iopub.status.idle": "2022-06-27T14:39:57.310584Z",
     "shell.execute_reply": "2022-06-27T14:39:57.308438Z"
    },
    "papermill": {
     "duration": 0.031843,
     "end_time": "2022-06-27T14:39:57.313658",
     "exception": false,
     "start_time": "2022-06-27T14:39:57.281815",
     "status": "completed"
    },
    "tags": []
   },
   "outputs": [
    {
     "data": {
      "text/plain": [
       "1490"
      ]
     },
     "execution_count": 8,
     "metadata": {},
     "output_type": "execute_result"
    }
   ],
   "source": [
    "# check for repeated articles\n",
    "train['ArticleId'].nunique()"
   ]
  },
  {
   "cell_type": "code",
   "execution_count": 9,
   "id": "ec26a79c",
   "metadata": {
    "_kg_hide-input": true,
    "execution": {
     "iopub.execute_input": "2022-06-27T14:39:57.343789Z",
     "iopub.status.busy": "2022-06-27T14:39:57.343487Z",
     "iopub.status.idle": "2022-06-27T14:39:57.352673Z",
     "shell.execute_reply": "2022-06-27T14:39:57.350945Z"
    },
    "papermill": {
     "duration": 0.026889,
     "end_time": "2022-06-27T14:39:57.355418",
     "exception": false,
     "start_time": "2022-06-27T14:39:57.328529",
     "status": "completed"
    },
    "tags": []
   },
   "outputs": [
    {
     "data": {
      "text/plain": [
       "array(['business', 'tech', 'politics', 'sport', 'entertainment'],\n",
       "      dtype=object)"
      ]
     },
     "execution_count": 9,
     "metadata": {},
     "output_type": "execute_result"
    }
   ],
   "source": [
    "train['Category'].unique()"
   ]
  },
  {
   "cell_type": "markdown",
   "id": "1bad147a",
   "metadata": {
    "papermill": {
     "duration": 0.012807,
     "end_time": "2022-06-27T14:39:57.381509",
     "exception": false,
     "start_time": "2022-06-27T14:39:57.368702",
     "status": "completed"
    },
    "tags": []
   },
   "source": [
    "The first thing I want to look at is a couple of texts to get an idea of how they are saved in the dataframe. We will look at the first row.  We can see that the text starts with the header, then has a fairly good amount of text afterwards which would be the article text. We can see that the data has already been preprocessed a bit because there are no uppercase characters. Since these are news articles, we can also assume that there are no spelling mistakes. Capitalization and spelling are two important factors when it comes to natural language processing. For this reason, we will be thankful that this has already been processed as such. "
   ]
  },
  {
   "cell_type": "code",
   "execution_count": 10,
   "id": "43d2dfa1",
   "metadata": {
    "_kg_hide-input": true,
    "execution": {
     "iopub.execute_input": "2022-06-27T14:39:57.409792Z",
     "iopub.status.busy": "2022-06-27T14:39:57.408841Z",
     "iopub.status.idle": "2022-06-27T14:39:57.416681Z",
     "shell.execute_reply": "2022-06-27T14:39:57.415362Z"
    },
    "papermill": {
     "duration": 0.024547,
     "end_time": "2022-06-27T14:39:57.419351",
     "exception": false,
     "start_time": "2022-06-27T14:39:57.394804",
     "status": "completed"
    },
    "tags": []
   },
   "outputs": [
    {
     "data": {
      "text/plain": [
       "'worldcom ex-boss launches defence lawyers defending former worldcom chief bernie ebbers against a battery of fraud charges have called a company whistleblower as their first witness.  cynthia cooper  worldcom s ex-head of internal accounting  alerted directors to irregular accounting practices at the us telecoms giant in 2002. her warnings led to the collapse of the firm following the discovery of an $11bn (£5.7bn) accounting fraud. mr ebbers has pleaded not guilty to charges of fraud and conspiracy.  prosecution lawyers have argued that mr ebbers orchestrated a series of accounting tricks at worldcom  ordering employees to hide expenses and inflate revenues to meet wall street earnings estimates. but ms cooper  who now runs her own consulting business  told a jury in new york on wednesday that external auditors arthur andersen had approved worldcom s accounting in early 2001 and 2002. she said andersen had given a  green light  to the procedures and practices used by worldcom. mr ebber s lawyers have said he was unaware of the fraud  arguing that auditors did not alert him to any problems.  ms cooper also said that during shareholder meetings mr ebbers often passed over technical questions to the company s finance chief  giving only  brief  answers himself. the prosecution s star witness  former worldcom financial chief scott sullivan  has said that mr ebbers ordered accounting adjustments at the firm  telling him to  hit our books . however  ms cooper said mr sullivan had not mentioned  anything uncomfortable  about worldcom s accounting during a 2001 audit committee meeting. mr ebbers could face a jail sentence of 85 years if convicted of all the charges he is facing. worldcom emerged from bankruptcy protection in 2004  and is now known as mci. last week  mci agreed to a buyout by verizon communications in a deal valued at $6.75bn.'"
      ]
     },
     "execution_count": 10,
     "metadata": {},
     "output_type": "execute_result"
    }
   ],
   "source": [
    "# first row \n",
    "train['Text'][0]"
   ]
  },
  {
   "cell_type": "markdown",
   "id": "5b05329a",
   "metadata": {
    "papermill": {
     "duration": 0.012981,
     "end_time": "2022-06-27T14:39:57.445622",
     "exception": false,
     "start_time": "2022-06-27T14:39:57.432641",
     "status": "completed"
    },
    "tags": []
   },
   "source": [
    "Now let's visualize the data as much as we can before running some models. We can see that overall we have about even number of entries for each category. This is good because if one or two categories was severely underrepresentated or, in contrast, overrepresentative in the data, then it may cause our model to be biased and/or perform poorly on some or all of the test data. "
   ]
  },
  {
   "cell_type": "code",
   "execution_count": 11,
   "id": "9e0b7d53",
   "metadata": {
    "_kg_hide-input": true,
    "execution": {
     "iopub.execute_input": "2022-06-27T14:39:57.474107Z",
     "iopub.status.busy": "2022-06-27T14:39:57.473763Z",
     "iopub.status.idle": "2022-06-27T14:39:57.815364Z",
     "shell.execute_reply": "2022-06-27T14:39:57.813931Z"
    },
    "papermill": {
     "duration": 0.35912,
     "end_time": "2022-06-27T14:39:57.818289",
     "exception": false,
     "start_time": "2022-06-27T14:39:57.459169",
     "status": "completed"
    },
    "tags": []
   },
   "outputs": [
    {
     "data": {
      "image/png": "[encoded data removed]",
      "text/plain": [
       "<Figure size 576x360 with 1 Axes>"
      ]
     },
     "metadata": {
      "needs_background": "light"
     },
     "output_type": "display_data"
    }
   ],
   "source": [
    "fig, ax = plt.subplots(figsize=(8, 5))\n",
    "sns.histplot(\n",
    "    data = train,\n",
    "    x = 'Category',\n",
    "    hue = 'Category',\n",
    "    palette = 'colorblind',\n",
    "    legend = False,\n",
    "    ).set(\n",
    "        title = 'Category Counts');"
   ]
  },
  {
   "cell_type": "markdown",
   "id": "acee3b4a",
   "metadata": {
    "papermill": {
     "duration": 0.013154,
     "end_time": "2022-06-27T14:39:57.845770",
     "exception": false,
     "start_time": "2022-06-27T14:39:57.832616",
     "status": "completed"
    },
    "tags": []
   },
   "source": [
    "While working with text data, it is important to make the text \"readable\" for the computer. To do this, we will take three steps:\n",
    "1. remove punctuation\n",
    "2. remove stop words (common English words such as 'to', 'the', 'of', etc"
   ]
  },
  {
   "cell_type": "code",
   "execution_count": 12,
   "id": "e1d9f2f9",
   "metadata": {
    "execution": {
     "iopub.execute_input": "2022-06-27T14:39:57.875124Z",
     "iopub.status.busy": "2022-06-27T14:39:57.874063Z",
     "iopub.status.idle": "2022-06-27T14:39:57.884676Z",
     "shell.execute_reply": "2022-06-27T14:39:57.883380Z"
    },
    "papermill": {
     "duration": 0.027876,
     "end_time": "2022-06-27T14:39:57.887359",
     "exception": false,
     "start_time": "2022-06-27T14:39:57.859483",
     "status": "completed"
    },
    "tags": []
   },
   "outputs": [],
   "source": [
    "def clean_text(dataframe, text_col):\n",
    "    '''\n",
    "    A helper function which takes a dataframe \n",
    "    and removes punction and stopwords.\n",
    "    '''\n",
    "    #remove all punctuation\n",
    "    dataframe['no_punct'] = dataframe[text_col].apply(lambda row: re.sub(r'[^\\w\\s]+', '', row))\n",
    "    \n",
    "    #remove numbers \n",
    "    dataframe['no_punct_num'] = dataframe['no_punct'].apply(lambda row: re.sub(r'[0-9]+', '', row))\n",
    "    \n",
    "    #remove stopwords\n",
    "    stop_words = stopwords.words('english')\n",
    "    dataframe['no_stopwords'] = dataframe['no_punct_num'].apply(lambda x: ' '.join([word for word in x.split() if word not in (stop_words)]))\n",
    "    \n",
    "    #remove extra spaces\n",
    "    dataframe['clean_text'] = dataframe['no_stopwords'].apply(lambda x: re.sub(' +', ' ', x))\n",
    "    return "
   ]
  },
  {
   "cell_type": "code",
   "execution_count": 13,
   "id": "e533ce7d",
   "metadata": {
    "execution": {
     "iopub.execute_input": "2022-06-27T14:39:57.916014Z",
     "iopub.status.busy": "2022-06-27T14:39:57.915691Z",
     "iopub.status.idle": "2022-06-27T14:39:59.225143Z",
     "shell.execute_reply": "2022-06-27T14:39:59.223579Z"
    },
    "papermill": {
     "duration": 1.327095,
     "end_time": "2022-06-27T14:39:59.228395",
     "exception": false,
     "start_time": "2022-06-27T14:39:57.901300",
     "status": "completed"
    },
    "tags": []
   },
   "outputs": [],
   "source": [
    "#clean dataframe text column\n",
    "clean_text(train, 'Text')"
   ]
  },
  {
   "cell_type": "code",
   "execution_count": 14,
   "id": "9150c3e3",
   "metadata": {
    "execution": {
     "iopub.execute_input": "2022-06-27T14:39:59.258727Z",
     "iopub.status.busy": "2022-06-27T14:39:59.258331Z",
     "iopub.status.idle": "2022-06-27T14:39:59.266371Z",
     "shell.execute_reply": "2022-06-27T14:39:59.265018Z"
    },
    "papermill": {
     "duration": 0.025537,
     "end_time": "2022-06-27T14:39:59.268984",
     "exception": false,
     "start_time": "2022-06-27T14:39:59.243447",
     "status": "completed"
    },
    "tags": []
   },
   "outputs": [
    {
     "data": {
      "text/plain": [
       "'german business confidence slides german business confidence fell february knocking hopes speedy recovery europe largest economy munichbased research institute ifo said confidence index fell february january first decline three months study found outlook manufacturing retail sectors worsened observers hoping confident business sector would signal economic activity picking surprised ifo index taken knock said dz bank economist bernd weidensteiner main reason probably domestic economy still weak particularly retail trade economy labour minister wolfgang clement called dip february ifo confidence figure mild decline said despite retreat index remained relatively high level expected modest economic upswing continue germany economy grew last year shrinking however economy contracted last three months mainly due reluctance consumers spend latest indications growth still proving elusive ifo president hanswerner sinn said improvement german domestic demand sluggish exports kept things going first half demand exports hit value euro hit record levels making german products less competitive overseas top unemployment rate stuck close manufacturing firms including daimlerchrysler siemens volkswagen negotiating unions cost cutting measures analysts said ifo figures germany continuing problems may delay interest rate rise european central bank eurozone interest rates comments senior officials recently focused threat inflation prompting fears interest rates may rise'"
      ]
     },
     "execution_count": 14,
     "metadata": {},
     "output_type": "execute_result"
    }
   ],
   "source": [
    "train['clean_text'][1]"
   ]
  },
  {
   "cell_type": "markdown",
   "id": "ebd2b46d",
   "metadata": {
    "papermill": {
     "duration": 0.013961,
     "end_time": "2022-06-27T14:39:59.297337",
     "exception": false,
     "start_time": "2022-06-27T14:39:59.283376",
     "status": "completed"
    },
    "tags": []
   },
   "source": [
    "After cleaning the dataframe text cells, we will also tokenize and lemmatize the text. Tokenize entails splitting a string of words into a list of words. For example \"cat sat on dog\" would be converted to ['cat', 'sat', 'on', 'dog']. Tokenizing splits up each word which we can then use later on to train models easier. Next, we will lemmatize the text. We can choose to lemmatize or stem the words. For this project, I chose to lemmatize the words because it keeps a bit more informationn than would stemming. An example of lemmatizing would be to take the words 'running', 'horses', and 'adjustable', and we lemmatize them to be 'run', 'horse', 'adjust'. This keeps the words general meaning but allows the model to learn better. Additionally, we will ensure that all words are in lowercase form. These cleaning steps mentioned before and here are important because, for example, the computer could look at two sentences such as \"Running big reddish dogs.\" versus \"Run big red dog!\" and these would be considered different even though they are quite similar. After cleaning, both sentences would be converted to ['run', 'big', 'red', 'dog'] and therefore these two \"articles\" probably would be classified together, which is the goal of our model."
   ]
  },
  {
   "cell_type": "code",
   "execution_count": 15,
   "id": "3c78b4ad",
   "metadata": {
    "execution": {
     "iopub.execute_input": "2022-06-27T14:39:59.327537Z",
     "iopub.status.busy": "2022-06-27T14:39:59.325627Z",
     "iopub.status.idle": "2022-06-27T14:39:59.335144Z",
     "shell.execute_reply": "2022-06-27T14:39:59.333912Z"
    },
    "papermill": {
     "duration": 0.026742,
     "end_time": "2022-06-27T14:39:59.337788",
     "exception": false,
     "start_time": "2022-06-27T14:39:59.311046",
     "status": "completed"
    },
    "tags": []
   },
   "outputs": [],
   "source": [
    "# tokenize text function\n",
    "wordnet_lemmatizer = WordNetLemmatizer()\n",
    "def lemmatizer(text):\n",
    "    ''' \n",
    "    A helper function to lemmatize an entire sentence/string\n",
    "    '''\n",
    "    lem = [wordnet_lemmatizer.lemmatize(word.lower()) for word in text] \n",
    "    return lem\n",
    "\n",
    "def tokenize_lemmatize(dataframe, text_col):\n",
    "    '''\n",
    "    A helper function to tokenize then lemmatize the string.\n",
    "    Also, add column which counts the number of words in that string.\n",
    "    '''\n",
    "    dataframe['tokenized'] = dataframe.apply(lambda row: nltk.word_tokenize(row[text_col]), axis=1)\n",
    "    dataframe['lemmatized'] = dataframe['tokenized'].apply(lambda string: lemmatizer(string))\n",
    "    dataframe['num_words'] = dataframe['lemmatized'].apply(lambda lst: len(lst))\n",
    "    return"
   ]
  },
  {
   "cell_type": "code",
   "execution_count": 16,
   "id": "5a500f01",
   "metadata": {
    "execution": {
     "iopub.execute_input": "2022-06-27T14:39:59.366733Z",
     "iopub.status.busy": "2022-06-27T14:39:59.366349Z",
     "iopub.status.idle": "2022-06-27T14:40:06.776962Z",
     "shell.execute_reply": "2022-06-27T14:40:06.775598Z"
    },
    "papermill": {
     "duration": 7.429007,
     "end_time": "2022-06-27T14:40:06.780745",
     "exception": false,
     "start_time": "2022-06-27T14:39:59.351738",
     "status": "completed"
    },
    "tags": []
   },
   "outputs": [],
   "source": [
    "tokenize_lemmatize(train, 'clean_text')"
   ]
  },
  {
   "cell_type": "markdown",
   "id": "bde04238",
   "metadata": {
    "papermill": {
     "duration": 0.013399,
     "end_time": "2022-06-27T14:40:06.808402",
     "exception": false,
     "start_time": "2022-06-27T14:40:06.795003",
     "status": "completed"
    },
    "tags": []
   },
   "source": [
    "After cleaning, we can see (below) the number of words per article. We see most articles are around 200 words. However, we also see we have some severe outliers that reach up to more than 750 words! We actually will remove these outliers as they might actually impact our model later on, in addition to creating more features (words) to have to calculate within the model. "
   ]
  },
  {
   "cell_type": "code",
   "execution_count": 17,
   "id": "43091bfa",
   "metadata": {
    "_kg_hide-input": true,
    "execution": {
     "iopub.execute_input": "2022-06-27T14:40:06.840558Z",
     "iopub.status.busy": "2022-06-27T14:40:06.836918Z",
     "iopub.status.idle": "2022-06-27T14:40:07.260873Z",
     "shell.execute_reply": "2022-06-27T14:40:07.259581Z"
    },
    "papermill": {
     "duration": 0.441662,
     "end_time": "2022-06-27T14:40:07.263676",
     "exception": false,
     "start_time": "2022-06-27T14:40:06.822014",
     "status": "completed"
    },
    "tags": []
   },
   "outputs": [
    {
     "data": {
      "image/png": "[encoded data removed]",
      "text/plain": [
       "<Figure size 1080x360 with 1 Axes>"
      ]
     },
     "metadata": {
      "needs_background": "light"
     },
     "output_type": "display_data"
    }
   ],
   "source": [
    "# number of tokens (words) per article\n",
    "fig, ax = plt.subplots(figsize=(15, 5))\n",
    "sns.histplot(\n",
    "    data = train, \n",
    "    x = 'num_words',\n",
    "    palette = 'colorblind',\n",
    "    ).set(\n",
    "        title = 'Number of Words per Article');"
   ]
  },
  {
   "cell_type": "code",
   "execution_count": 18,
   "id": "1b29c005",
   "metadata": {
    "execution": {
     "iopub.execute_input": "2022-06-27T14:40:07.295551Z",
     "iopub.status.busy": "2022-06-27T14:40:07.293632Z",
     "iopub.status.idle": "2022-06-27T14:40:07.305164Z",
     "shell.execute_reply": "2022-06-27T14:40:07.303783Z"
    },
    "papermill": {
     "duration": 0.02861,
     "end_time": "2022-06-27T14:40:07.307715",
     "exception": false,
     "start_time": "2022-06-27T14:40:07.279105",
     "status": "completed"
    },
    "tags": []
   },
   "outputs": [
    {
     "data": {
      "text/plain": [
       "1484"
      ]
     },
     "execution_count": 18,
     "metadata": {},
     "output_type": "execute_result"
    }
   ],
   "source": [
    "#remove outlier articles (longer than 750 words)\n",
    "train = train[train['num_words'] < 750]\n",
    "len(train)"
   ]
  },
  {
   "cell_type": "markdown",
   "id": "56a22da7",
   "metadata": {
    "papermill": {
     "duration": 0.013776,
     "end_time": "2022-06-27T14:40:07.335674",
     "exception": false,
     "start_time": "2022-06-27T14:40:07.321898",
     "status": "completed"
    },
    "tags": []
   },
   "source": [
    "Let's also look at the number of words per category (boxplot below). Per category, we also see quite a few outliers. We will leave these this time. We also see that the mean of each category is similar, with tech and politics having more words, and variance, than the rest of the topics."
   ]
  },
  {
   "cell_type": "code",
   "execution_count": 19,
   "id": "a24c6bcc",
   "metadata": {
    "_kg_hide-input": true,
    "execution": {
     "iopub.execute_input": "2022-06-27T14:40:07.366169Z",
     "iopub.status.busy": "2022-06-27T14:40:07.365053Z",
     "iopub.status.idle": "2022-06-27T14:40:07.640686Z",
     "shell.execute_reply": "2022-06-27T14:40:07.639269Z"
    },
    "papermill": {
     "duration": 0.293622,
     "end_time": "2022-06-27T14:40:07.643208",
     "exception": false,
     "start_time": "2022-06-27T14:40:07.349586",
     "status": "completed"
    },
    "tags": []
   },
   "outputs": [
    {
     "data": {
      "image/png": "[encoded data removed]",
      "text/plain": [
       "<Figure size 1080x360 with 1 Axes>"
      ]
     },
     "metadata": {
      "needs_background": "light"
     },
     "output_type": "display_data"
    }
   ],
   "source": [
    "# words per category\n",
    "fig, ax = plt.subplots(figsize=(15, 5))\n",
    "sns.boxplot(\n",
    "    data = train, \n",
    "    x = 'num_words', \n",
    "    y = 'Category',\n",
    "    palette = 'colorblind'\n",
    "    ).set(\n",
    "        title = 'Number of Words Per Category');"
   ]
  },
  {
   "cell_type": "markdown",
   "id": "f8249cf6",
   "metadata": {
    "papermill": {
     "duration": 0.014177,
     "end_time": "2022-06-27T14:40:07.671697",
     "exception": false,
     "start_time": "2022-06-27T14:40:07.657520",
     "status": "completed"
    },
    "tags": []
   },
   "source": [
    "-------\n",
    "# 2. Model Building and Training \n",
    "-----\n",
    "\n"
   ]
  },
  {
   "cell_type": "code",
   "execution_count": 20,
   "id": "6f0cf3cc",
   "metadata": {
    "execution": {
     "iopub.execute_input": "2022-06-27T14:40:07.702374Z",
     "iopub.status.busy": "2022-06-27T14:40:07.701240Z",
     "iopub.status.idle": "2022-06-27T14:40:07.708309Z",
     "shell.execute_reply": "2022-06-27T14:40:07.707131Z"
    },
    "papermill": {
     "duration": 0.025151,
     "end_time": "2022-06-27T14:40:07.710866",
     "exception": false,
     "start_time": "2022-06-27T14:40:07.685715",
     "status": "completed"
    },
    "tags": []
   },
   "outputs": [],
   "source": [
    "train_df = train.copy()"
   ]
  },
  {
   "cell_type": "code",
   "execution_count": 21,
   "id": "d161a6d9",
   "metadata": {
    "execution": {
     "iopub.execute_input": "2022-06-27T14:40:07.742179Z",
     "iopub.status.busy": "2022-06-27T14:40:07.740948Z",
     "iopub.status.idle": "2022-06-27T14:40:07.749506Z",
     "shell.execute_reply": "2022-06-27T14:40:07.748267Z"
    },
    "papermill": {
     "duration": 0.027055,
     "end_time": "2022-06-27T14:40:07.752404",
     "exception": false,
     "start_time": "2022-06-27T14:40:07.725349",
     "status": "completed"
    },
    "tags": []
   },
   "outputs": [],
   "source": [
    "def predict(w_matrix):\n",
    "    sortedW = np.argsort(w_matrix)\n",
    "    n_predictions, maxValue = sortedW.shape\n",
    "    predictions = [[sortedW[i][maxValue - 1]] for i in range(n_predictions)]\n",
    "    topics = np.empty(n_predictions, dtype = np.int64)\n",
    "    for i in range(n_predictions):\n",
    "        topics[i] = predictions[i][0]\n",
    "    return topics"
   ]
  },
  {
   "cell_type": "code",
   "execution_count": 22,
   "id": "60c6ff6f",
   "metadata": {
    "execution": {
     "iopub.execute_input": "2022-06-27T14:40:07.782747Z",
     "iopub.status.busy": "2022-06-27T14:40:07.782419Z",
     "iopub.status.idle": "2022-06-27T14:40:07.794762Z",
     "shell.execute_reply": "2022-06-27T14:40:07.793327Z"
    },
    "papermill": {
     "duration": 0.030652,
     "end_time": "2022-06-27T14:40:07.797580",
     "exception": false,
     "start_time": "2022-06-27T14:40:07.766928",
     "status": "completed"
    },
    "tags": []
   },
   "outputs": [],
   "source": [
    "def label_permute(ytdf,yp,n=5):\n",
    "    \"\"\"\n",
    "    ytdf: labels dataframe object\n",
    "    yp: clustering label prediction output\n",
    "    Returns permuted label order and accuracy. \n",
    "    Example output: (3, 4, 1, 2, 0), 0.74 \n",
    "    \"\"\"\n",
    "    perms = list(itertools.permutations([0, 1, 2, 3, 4]))    #create permutation list\n",
    "    best_labels = []\n",
    "    best_acc = 0 \n",
    "    current = {}\n",
    "    labels = ['business', 'tech', 'politics', 'sport', 'entertainment']\n",
    "    for perm in perms:\n",
    "        for i in range(n):\n",
    "            current[labels[i]] = perm[i]\n",
    "            if len(current) == 5:\n",
    "                conditions = [\n",
    "                    (ytdf['Category'] == current['business']),\n",
    "                    (ytdf['Category'] == current['tech']),\n",
    "                    (ytdf['Category'] == current['politics']),\n",
    "                    (ytdf['Category'] == current['sport']),\n",
    "                    (ytdf['Category'] == current['entertainment'])]\n",
    "                ytdf['test'] = ytdf['Category'].map(current)\n",
    "                current_accuracy = accuracy_score(ytdf['test'], yp)\n",
    "                if current_accuracy > best_acc: \n",
    "                    best_acc = current_accuracy\n",
    "                    best_labels = perm\n",
    "                    ytdf['best'] = ytdf['test']\n",
    "    return best_labels, best_acc"
   ]
  },
  {
   "cell_type": "code",
   "execution_count": 23,
   "id": "9d5943dd",
   "metadata": {
    "execution": {
     "iopub.execute_input": "2022-06-27T14:40:07.828869Z",
     "iopub.status.busy": "2022-06-27T14:40:07.827919Z",
     "iopub.status.idle": "2022-06-27T14:40:14.358677Z",
     "shell.execute_reply": "2022-06-27T14:40:14.356949Z"
    },
    "papermill": {
     "duration": 6.550569,
     "end_time": "2022-06-27T14:40:14.362663",
     "exception": false,
     "start_time": "2022-06-27T14:40:07.812094",
     "status": "completed"
    },
    "tags": []
   },
   "outputs": [
    {
     "name": "stdout",
     "output_type": "stream",
     "text": [
      "accuracy= 0.9609164420485176\n"
     ]
    }
   ],
   "source": [
    "#create vectorizer\n",
    "tfidvec = TfidfVectorizer(min_df = 2,\n",
    "                          max_df = 0.95,\n",
    "                          norm = 'l2',\n",
    "                          stop_words = 'english')\n",
    "tfidvec_train = tfidvec.fit_transform(train_df['clean_text'])\n",
    "\n",
    "#create model\n",
    "nmf_model = NMF(n_components=5, \n",
    "                init='nndsvda', \n",
    "                solver = 'mu',\n",
    "                beta_loss = 'kullback-leibler',\n",
    "                l1_ratio = 0.5,\n",
    "                random_state = 101)\n",
    "nmf_model.fit(tfidvec_train)\n",
    "\n",
    "#view results\n",
    "yhat_train = predict(nmf_model.transform(tfidvec_train))\n",
    "label_order, accuracy = label_permute(train_df, yhat_train )\n",
    "print('accuracy=', accuracy)"
   ]
  },
  {
   "cell_type": "markdown",
   "id": "91a54252",
   "metadata": {
    "papermill": {
     "duration": 0.01424,
     "end_time": "2022-06-27T14:40:14.392358",
     "exception": false,
     "start_time": "2022-06-27T14:40:14.378118",
     "status": "completed"
    },
    "tags": []
   },
   "source": [
    "For this model, using matrix factorization, I found the best combination of parameters as above which resulted in the highest accuracy. I also tried other combinations, changing the TfidVectorizor and/or NMF model parameters. Particularly, I played around with min_df and man\\x_df in the TfidVectorizor\n",
    "- using max_df values of 0.85, 0.90, 0.95\n",
    "- using min_df values of 0, 1, and 2\n",
    "- using beta_loss of 'frobenius' and 'kullback-leibler'\n",
    "- using solver of 'mu' and 'cd'\n",
    "\n",
    "Although all models performed with higher than 85%, the combination above (in the code) was the best model."
   ]
  },
  {
   "cell_type": "code",
   "execution_count": 24,
   "id": "d79918af",
   "metadata": {
    "execution": {
     "iopub.execute_input": "2022-06-27T14:40:14.423599Z",
     "iopub.status.busy": "2022-06-27T14:40:14.423216Z",
     "iopub.status.idle": "2022-06-27T14:40:14.430676Z",
     "shell.execute_reply": "2022-06-27T14:40:14.429336Z"
    },
    "papermill": {
     "duration": 0.027659,
     "end_time": "2022-06-27T14:40:14.434718",
     "exception": false,
     "start_time": "2022-06-27T14:40:14.407059",
     "status": "completed"
    },
    "tags": []
   },
   "outputs": [
    {
     "name": "stdout",
     "output_type": "stream",
     "text": [
      "4:  business\n",
      "2:  tech\n",
      "1:  politics\n",
      "0:  sport\n",
      "3:  entertainment\n"
     ]
    }
   ],
   "source": [
    "#show best labels for the trained model \n",
    "label_dict = {4:'business', 2:'tech', 1:'politics', 0:'sport', 3:'entertainment'}\n",
    "for i in range(5):\n",
    "    print(f'{label_order[i]}:  {label_dict[label_order[i]]}')"
   ]
  },
  {
   "cell_type": "code",
   "execution_count": 25,
   "id": "87784dfa",
   "metadata": {
    "execution": {
     "iopub.execute_input": "2022-06-27T14:40:14.466770Z",
     "iopub.status.busy": "2022-06-27T14:40:14.466453Z",
     "iopub.status.idle": "2022-06-27T14:40:15.677395Z",
     "shell.execute_reply": "2022-06-27T14:40:15.675853Z"
    },
    "papermill": {
     "duration": 1.230829,
     "end_time": "2022-06-27T14:40:15.681645",
     "exception": false,
     "start_time": "2022-06-27T14:40:14.450816",
     "status": "completed"
    },
    "tags": []
   },
   "outputs": [],
   "source": [
    "#first clean testing data as we did with the training data\n",
    "clean_text(test, 'Text')\n",
    "tfidvec_test = tfidvec.transform(test['clean_text'])\n",
    "yhat_test = predict(nmf_model.transform(tfidvec_test))"
   ]
  },
  {
   "cell_type": "code",
   "execution_count": 26,
   "id": "278da325",
   "metadata": {
    "execution": {
     "iopub.execute_input": "2022-06-27T14:40:15.741356Z",
     "iopub.status.busy": "2022-06-27T14:40:15.740805Z",
     "iopub.status.idle": "2022-06-27T14:40:15.764447Z",
     "shell.execute_reply": "2022-06-27T14:40:15.762869Z"
    },
    "papermill": {
     "duration": 0.060969,
     "end_time": "2022-06-27T14:40:15.771951",
     "exception": false,
     "start_time": "2022-06-27T14:40:15.710982",
     "status": "completed"
    },
    "tags": []
   },
   "outputs": [
    {
     "name": "stdout",
     "output_type": "stream",
     "text": [
      "    ArticleId       Category\n",
      "0        1018          sport\n",
      "1        1319           tech\n",
      "2        1138          sport\n",
      "3         459       business\n",
      "4        1020          sport\n",
      "5          51          sport\n",
      "6        2025       politics\n",
      "7        1479       politics\n",
      "8          27  entertainment\n",
      "9         397       business\n",
      "10       1644       business\n",
      "11        263           tech\n",
      "12        765       politics\n",
      "13       2134           tech\n",
      "14        297  entertainment\n"
     ]
    },
    {
     "name": "stderr",
     "output_type": "stream",
     "text": [
      "/opt/conda/lib/python3.7/site-packages/ipykernel_launcher.py:8: FutureWarning: In a future version of pandas all arguments of DataFrame.drop except for the argument 'labels' will be keyword-only\n",
      "  \n"
     ]
    }
   ],
   "source": [
    "#create a submission dataframe\n",
    "test_predictions = pd.DataFrame(columns=['ArticleId', 'Category', 'yhat'])\n",
    "test_predictions['ArticleId'] = test['ArticleId']\n",
    "test_predictions['yhat'] = yhat_test\n",
    "test_predictions['Category'] = test_predictions['yhat'].apply(lambda i: label_dict[i])\n",
    "\n",
    "#delete columns unneeded for submission\n",
    "test_predictions = test_predictions.drop('yhat', 1)\n",
    "print(test_predictions.head(15))"
   ]
  },
  {
   "cell_type": "code",
   "execution_count": 27,
   "id": "10beea01",
   "metadata": {
    "execution": {
     "iopub.execute_input": "2022-06-27T14:40:15.813780Z",
     "iopub.status.busy": "2022-06-27T14:40:15.813402Z",
     "iopub.status.idle": "2022-06-27T14:40:15.823750Z",
     "shell.execute_reply": "2022-06-27T14:40:15.822516Z"
    },
    "papermill": {
     "duration": 0.028997,
     "end_time": "2022-06-27T14:40:15.826529",
     "exception": false,
     "start_time": "2022-06-27T14:40:15.797532",
     "status": "completed"
    },
    "tags": []
   },
   "outputs": [],
   "source": [
    "#save and submit test dataframe\n",
    "try: \n",
    "    test_predictions.to_csv('submission.csv', index=False)\n",
    "except: \n",
    "    pass\n",
    "\n",
    "# #public and private score was 0.96326"
   ]
  },
  {
   "cell_type": "markdown",
   "id": "e19411c8",
   "metadata": {
    "papermill": {
     "duration": 0.014401,
     "end_time": "2022-06-27T14:40:15.855618",
     "exception": false,
     "start_time": "2022-06-27T14:40:15.841217",
     "status": "completed"
    },
    "tags": []
   },
   "source": [
    "To get the accuracy on the test set, I went ahead and submitted the results from the unsupervised model. Our model got a test accuracy score of 0.96326, or 96.3%, which is pretty good! Let's see if we can do even better using a supervised model. "
   ]
  },
  {
   "cell_type": "markdown",
   "id": "8e7097b7",
   "metadata": {
    "papermill": {
     "duration": 0.0142,
     "end_time": "2022-06-27T14:40:15.884267",
     "exception": false,
     "start_time": "2022-06-27T14:40:15.870067",
     "status": "completed"
    },
    "tags": []
   },
   "source": [
    "_______\n",
    "# 3. Model Comparisons \n",
    "\n",
    "For this project, we are asked to use unsupervised learning to classify text articles uing a matrix factorization model. Traditionally, supervised models would perform better with this type of data if we have pre-labeled text, which we do. Therefore, we will compare the unsupervised learning model above to a supervised model below. Since there was no given direction for which supervised model to use specifically, for fun let's try a KMeans clustering model. \n",
    "For good measure, we will re-import the data again since we'll be working with a new model. "
   ]
  },
  {
   "cell_type": "code",
   "execution_count": 28,
   "id": "0228784b",
   "metadata": {
    "execution": {
     "iopub.execute_input": "2022-06-27T14:40:15.915542Z",
     "iopub.status.busy": "2022-06-27T14:40:15.915120Z",
     "iopub.status.idle": "2022-06-27T14:40:15.999621Z",
     "shell.execute_reply": "2022-06-27T14:40:15.985704Z"
    },
    "papermill": {
     "duration": 0.104845,
     "end_time": "2022-06-27T14:40:16.004055",
     "exception": false,
     "start_time": "2022-06-27T14:40:15.899210",
     "status": "completed"
    },
    "tags": []
   },
   "outputs": [],
   "source": [
    "#import data\n",
    "train = pd.read_csv(train_path)\n",
    "test = pd.read_csv(test_path)"
   ]
  },
  {
   "cell_type": "code",
   "execution_count": 29,
   "id": "426b2b74",
   "metadata": {
    "execution": {
     "iopub.execute_input": "2022-06-27T14:40:16.070442Z",
     "iopub.status.busy": "2022-06-27T14:40:16.069827Z",
     "iopub.status.idle": "2022-06-27T14:40:21.768143Z",
     "shell.execute_reply": "2022-06-27T14:40:21.765063Z"
    },
    "papermill": {
     "duration": 5.739025,
     "end_time": "2022-06-27T14:40:21.771070",
     "exception": false,
     "start_time": "2022-06-27T14:40:16.032045",
     "status": "completed"
    },
    "tags": []
   },
   "outputs": [
    {
     "name": "stdout",
     "output_type": "stream",
     "text": [
      "accuracy= 0.9369127516778524\n",
      "(3, 1, 0, 2, 4) \n",
      "\n",
      "3:  business\n",
      "1:  tech\n",
      "0:  entertainment\n",
      "2:  sport\n",
      "4:  politics\n"
     ]
    }
   ],
   "source": [
    "#clean data\n",
    "clean_text(train, 'Text')\n",
    "\n",
    "#split data into X and y\n",
    "y_train = train['Category'].values\n",
    "X_train = train['clean_text'].values\n",
    "\n",
    "#create new vectorizer for supervised learning model\n",
    "tfidfvec_supervised = TfidfVectorizer(min_df = 2,\n",
    "                          max_df = 0.95,\n",
    "                          norm = 'l2',\n",
    "                          stop_words = 'english')\n",
    "tfSuper_train = tfidfvec_supervised.fit_transform(X_train) \n",
    "\n",
    "#create KMeans Model and train\n",
    "kmeans = KMeans(n_clusters = 5, \n",
    "                init = 'k-means++', \n",
    "                algorithm = 'full', \n",
    "                random_state = 101)\n",
    "yhat_train_super = kmeans.fit_predict(tfSuper_train)\n",
    "\n",
    "#get accuracy\n",
    "y_train_df = pd.DataFrame(y_train, columns=['Category'])\n",
    "label_order, accuracy = label_permute(y_train_df, yhat_train_super)\n",
    "print('accuracy=', accuracy)\n",
    "print(label_order, '\\n')\n",
    "\n",
    "#show label order\n",
    "label_dict = {3:'business', 1:'tech', 4:'politics', 2:'sport', 0:'entertainment'}\n",
    "for i in range(5):\n",
    "    print(f'{label_order[i]}:  {label_dict[label_order[i]]}')"
   ]
  },
  {
   "cell_type": "markdown",
   "id": "0c3ee33f",
   "metadata": {
    "papermill": {
     "duration": 0.014654,
     "end_time": "2022-06-27T14:40:21.801712",
     "exception": false,
     "start_time": "2022-06-27T14:40:21.787058",
     "status": "completed"
    },
    "tags": []
   },
   "source": [
    "Now we will test the model on the test set. Again, we need to repeat the same steps to clean the data like we did in the training set. "
   ]
  },
  {
   "cell_type": "code",
   "execution_count": 30,
   "id": "baf674a2",
   "metadata": {
    "execution": {
     "iopub.execute_input": "2022-06-27T14:40:21.834079Z",
     "iopub.status.busy": "2022-06-27T14:40:21.832753Z",
     "iopub.status.idle": "2022-06-27T14:40:22.730279Z",
     "shell.execute_reply": "2022-06-27T14:40:22.727270Z"
    },
    "papermill": {
     "duration": 0.916639,
     "end_time": "2022-06-27T14:40:22.733175",
     "exception": false,
     "start_time": "2022-06-27T14:40:21.816536",
     "status": "completed"
    },
    "tags": []
   },
   "outputs": [
    {
     "name": "stdout",
     "output_type": "stream",
     "text": [
      "   ArticleId Category\n",
      "0       1018    sport\n",
      "1       1319     tech\n"
     ]
    },
    {
     "name": "stderr",
     "output_type": "stream",
     "text": [
      "/opt/conda/lib/python3.7/site-packages/ipykernel_launcher.py:18: FutureWarning: In a future version of pandas all arguments of DataFrame.drop except for the argument 'labels' will be keyword-only\n"
     ]
    }
   ],
   "source": [
    "#clean data\n",
    "clean_text(test, 'Text')\n",
    "\n",
    "#split data\n",
    "X_test = test['clean_text'].values\n",
    "\n",
    "#create vectorizer (do not fit it!)\n",
    "tfSuper_test = tfidfvec_supervised.transform(X_test)\n",
    "yhat_test = kmeans.predict(tfSuper_test)\n",
    "\n",
    "#create a submission dataframe\n",
    "test_predictions = pd.DataFrame(columns=['ArticleId', 'Category', 'yhat'])\n",
    "test_predictions['ArticleId'] = test['ArticleId']\n",
    "test_predictions['yhat'] = yhat_test\n",
    "test_predictions['Category'] = test_predictions['yhat'].apply(lambda i: label_dict[i])\n",
    "\n",
    "#delete columns unneeded for submission\n",
    "test_predictions = test_predictions.drop('yhat', 1)\n",
    "print(test_predictions.head(2))"
   ]
  },
  {
   "cell_type": "code",
   "execution_count": 31,
   "id": "f9de7677",
   "metadata": {
    "execution": {
     "iopub.execute_input": "2022-06-27T14:40:22.766348Z",
     "iopub.status.busy": "2022-06-27T14:40:22.764330Z",
     "iopub.status.idle": "2022-06-27T14:40:22.770730Z",
     "shell.execute_reply": "2022-06-27T14:40:22.769298Z"
    },
    "papermill": {
     "duration": 0.025277,
     "end_time": "2022-06-27T14:40:22.773816",
     "exception": false,
     "start_time": "2022-06-27T14:40:22.748539",
     "status": "completed"
    },
    "tags": []
   },
   "outputs": [],
   "source": [
    "#save and submit test dataframe\n",
    "# try: \n",
    "#     test_predictions.to_csv('submission.csv', index=False)\n",
    "# except: \n",
    "#     pass\n",
    "\n",
    "# #public and private score was 0.62993"
   ]
  },
  {
   "cell_type": "markdown",
   "id": "ce9a7fc4",
   "metadata": {
    "papermill": {
     "duration": 0.014972,
     "end_time": "2022-06-27T14:40:22.803699",
     "exception": false,
     "start_time": "2022-06-27T14:40:22.788727",
     "status": "completed"
    },
    "tags": []
   },
   "source": [
    "It looks like we got a training accuracy of 93.69% but only a testing accuracy of 62.99%. Wow! This suggests that our model is probably overfitting to the training data and does a poor job predicting on new data. If we wanted to train a more powerful supervised learning model, we could use techniques such as ensemble methods and/or cross-validation (Kfold), or different models such as decision tree, random forest, SVM, etc. However, since this class focuses on unsupervised learning techniques, and that is our main focus in this project, we will simply compare our KMeans model to the matrix factorization model. "
   ]
  },
  {
   "cell_type": "markdown",
   "id": "c1af61c7",
   "metadata": {
    "papermill": {
     "duration": 0.014797,
     "end_time": "2022-06-27T14:40:22.833497",
     "exception": false,
     "start_time": "2022-06-27T14:40:22.818700",
     "status": "completed"
    },
    "tags": []
   },
   "source": [
    "______ \n",
    "# 4. Conclusions\n",
    "______\n",
    "\n",
    "To summarize this project, we first cleaned the training data in common NLP preprocessing ways and explored the data. Then we created a matrix factorization model and got a testing accuracy of 96.3%. We got this score by find-tuning some parameters and using the training accuracy as a guide. The unsupervised model did quite well coompared to the supervised learning model. I suspect the supervised model overfit to the training data, which our unsupervised model did not. We made sure to preprocess the data in the same way for all training and testing runs. \n",
    "\n",
    "\n",
    "**Future Project Enhancement Options**: \n",
    "Here are a few things that could be performed in future NLP projects which may impact the results in this study by improving or decreasing the performance. It is worth trying out. This project removed captialized letters, all numbers, and punctuation. In addition, we did not deal with mispelled or 'non-real' words. These things can impact the outcomes of a model and are worth modifying and trying out in different ways to see if better results can be obtained."
   ]
  },
  {
   "cell_type": "markdown",
   "id": "d4c1759a",
   "metadata": {
    "papermill": {
     "duration": 0.015178,
     "end_time": "2022-06-27T14:40:22.863859",
     "exception": false,
     "start_time": "2022-06-27T14:40:22.848681",
     "status": "completed"
    },
    "tags": []
   },
   "source": [
    "\n",
    "End 🥳\n",
    "______"
   ]
  }
 ],
 "metadata": {
  "kernelspec": {
   "display_name": "Python 3",
   "language": "python",
   "name": "python3"
  },
  "language_info": {
   "codemirror_mode": {
    "name": "ipython",
    "version": 3
   },
   "file_extension": ".py",
   "mimetype": "text/x-python",
   "name": "python",
   "nbconvert_exporter": "python",
   "pygments_lexer": "ipython3",
   "version": "3.7.12"
  },
  "papermill": {
   "default_parameters": {},
   "duration": 39.703903,
   "end_time": "2022-06-27T14:40:23.903158",
   "environment_variables": {},
   "exception": null,
   "input_path": "__notebook__.ipynb",
   "output_path": "__notebook__.ipynb",
   "parameters": {},
   "start_time": "2022-06-27T14:39:44.199255",
   "version": "2.3.4"
  }
 },
 "nbformat": 4,
 "nbformat_minor": 5
}
